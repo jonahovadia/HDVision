{
  "nbformat": 4,
  "nbformat_minor": 0,
  "metadata": {
    "colab": {
      "provenance": [],
      "include_colab_link": true
    },
    "kernelspec": {
      "name": "python3",
      "display_name": "Python 3"
    },
    "language_info": {
      "name": "python"
    }
  },
  "cells": [
    {
      "cell_type": "markdown",
      "metadata": {
        "id": "view-in-github",
        "colab_type": "text"
      },
      "source": [
        "<a href=\"https://colab.research.google.com/github/jonahovadia/HDVision/blob/main/HDVision.ipynb\" target=\"_parent\"><img src=\"https://colab.research.google.com/assets/colab-badge.svg\" alt=\"Open In Colab\"/></a>"
      ]
    },
    {
      "cell_type": "code",
      "execution_count": null,
      "metadata": {
        "colab": {
          "base_uri": "https://localhost:8080/"
        },
        "id": "sWBLbZjU4GUD",
        "outputId": "60c99de5-e6b1-4d09-b09d-668871c3818b"
      },
      "outputs": [
        {
          "output_type": "stream",
          "name": "stdout",
          "text": [
            "Hello world.\n"
          ]
        }
      ],
      "source": [
        "print(\"Hello world.\")"
      ]
    },
    {
      "cell_type": "code",
      "source": [
        "!pip3 install numpy"
      ],
      "metadata": {
        "colab": {
          "base_uri": "https://localhost:8080/"
        },
        "id": "_sbvIvSc5E7Y",
        "outputId": "d514a07b-37ba-4d9a-8553-1f1caa6a8407"
      },
      "execution_count": null,
      "outputs": [
        {
          "output_type": "stream",
          "name": "stdout",
          "text": [
            "Requirement already satisfied: numpy in /usr/local/lib/python3.11/dist-packages (2.0.2)\n"
          ]
        }
      ]
    },
    {
      "cell_type": "markdown",
      "source": [
        "Thats how you install packages ^"
      ],
      "metadata": {
        "id": "e04ZXGuS5UNf"
      }
    },
    {
      "cell_type": "code",
      "source": [
        "!pip3 install kagglehub"
      ],
      "metadata": {
        "colab": {
          "base_uri": "https://localhost:8080/"
        },
        "id": "ZMW2dLC2fGx7",
        "outputId": "6a2a85a3-8ab0-4b01-926d-f169185bf71b"
      },
      "execution_count": null,
      "outputs": [
        {
          "output_type": "stream",
          "name": "stdout",
          "text": [
            "Requirement already satisfied: kagglehub in /usr/local/lib/python3.11/dist-packages (0.3.10)\n",
            "Requirement already satisfied: packaging in /usr/local/lib/python3.11/dist-packages (from kagglehub) (24.2)\n",
            "Requirement already satisfied: pyyaml in /usr/local/lib/python3.11/dist-packages (from kagglehub) (6.0.2)\n",
            "Requirement already satisfied: requests in /usr/local/lib/python3.11/dist-packages (from kagglehub) (2.32.3)\n",
            "Requirement already satisfied: tqdm in /usr/local/lib/python3.11/dist-packages (from kagglehub) (4.67.1)\n",
            "Requirement already satisfied: charset-normalizer<4,>=2 in /usr/local/lib/python3.11/dist-packages (from requests->kagglehub) (3.4.1)\n",
            "Requirement already satisfied: idna<4,>=2.5 in /usr/local/lib/python3.11/dist-packages (from requests->kagglehub) (3.10)\n",
            "Requirement already satisfied: urllib3<3,>=1.21.1 in /usr/local/lib/python3.11/dist-packages (from requests->kagglehub) (2.3.0)\n",
            "Requirement already satisfied: certifi>=2017.4.17 in /usr/local/lib/python3.11/dist-packages (from requests->kagglehub) (2025.1.31)\n"
          ]
        }
      ]
    },
    {
      "cell_type": "code",
      "source": [
        "import kagglehub\n",
        "\n",
        "# Download latest version\n",
        "path = kagglehub.dataset_download(\"ankit1743/skyview-an-aerial-landscape-dataset\")\n",
        "\n",
        "print(\"\\nPath to dataset files:\", path)"
      ],
      "metadata": {
        "colab": {
          "base_uri": "https://localhost:8080/"
        },
        "id": "tFJLVOL5fAqv",
        "outputId": "7d5fe26a-ec53-47b9-c689-fdecdd202bfd"
      },
      "execution_count": null,
      "outputs": [
        {
          "output_type": "stream",
          "name": "stdout",
          "text": [
            "Downloading from https://www.kaggle.com/api/v1/datasets/download/ankit1743/skyview-an-aerial-landscape-dataset?dataset_version_number=1...\n"
          ]
        },
        {
          "output_type": "stream",
          "name": "stderr",
          "text": [
            "100%|██████████| 154M/154M [00:03<00:00, 41.0MB/s]"
          ]
        },
        {
          "output_type": "stream",
          "name": "stdout",
          "text": [
            "Extracting files...\n"
          ]
        },
        {
          "output_type": "stream",
          "name": "stderr",
          "text": [
            "\n"
          ]
        },
        {
          "output_type": "stream",
          "name": "stdout",
          "text": [
            "\n",
            "Path to dataset files: /root/.cache/kagglehub/datasets/ankit1743/skyview-an-aerial-landscape-dataset/versions/1\n"
          ]
        }
      ]
    },
    {
      "cell_type": "markdown",
      "source": [
        "After much experimentation i have realised that the root directory is \"content\"\n",
        "\n",
        "I moved the folder \"Aerial_Landscapes\" into this directory so the base_dir defined below is correct."
      ],
      "metadata": {
        "id": "X5glyeaDi4k_"
      }
    },
    {
      "cell_type": "code",
      "source": [
        "import os\n",
        "import pandas as pd\n",
        "import cv2\n",
        "import numpy as np\n",
        "import pickle\n",
        "\n",
        "# Initialize lists to store data\n",
        "image_data = []\n",
        "labels = []\n",
        "total_images = 0\n",
        "\n",
        "# Get all subdirectories (classes)\n",
        "base_dir = \"./Aerial_Landscapes\"\n",
        "classes = os.listdir(base_dir)\n",
        "\n",
        "# Process each class directory\n",
        "for class_name in classes:\n",
        "    class_dir = os.path.join(base_dir, class_name)\n",
        "\n",
        "    # Skip if not a directory\n",
        "    if not os.path.isdir(class_dir):\n",
        "        continue\n",
        "\n",
        "    print(f\"\\nProcessing class: {class_name}\")\n",
        "\n",
        "    # Process each image in the class directory\n",
        "    for image_name in os.listdir(class_dir):\n",
        "        image_path = os.path.join(class_dir, image_name)\n",
        "\n",
        "        # Read and flatten the image\n",
        "        try:\n",
        "            img = cv2.imread(image_path)\n",
        "            # Flatten the image into a 1D array\n",
        "            img_flat = img.flatten()\n",
        "\n",
        "            # Add the flattened image data and label\n",
        "            image_data.append(img_flat)\n",
        "            labels.append(class_name)\n",
        "\n",
        "            total_images += 1\n",
        "            if total_images % 800 == 0:\n",
        "                print(f\"Processed {total_images} images...\")\n",
        "\n",
        "        except Exception as e:\n",
        "            print(f\"Error processing {image_path}: {e}\")\n",
        "\n",
        "# Convert to numpy arrays\n",
        "X = np.array(image_data)\n",
        "y = np.array(labels)\n",
        "\n",
        "# Create a DataFrame\n",
        "df = pd.DataFrame(X)\n",
        "df['label'] = y\n",
        "\n",
        "# Save the DataFrame to a pickle file\n",
        "df.to_pickle('aerial_landscapes.pkl')\n",
        "\n",
        "print(f\"\\nDataset created with {len(df)} samples and {len(df.columns)-1} features\")\n",
        "\n",
        "print(f\"\\nSaved as pkl file at ./aerial_landscapes.pkl\")"
      ],
      "metadata": {
        "colab": {
          "base_uri": "https://localhost:8080/"
        },
        "id": "1ULXL3NIWDsk",
        "outputId": "48e4a0c3-5eb0-4039-fdb1-6ee76cf94ad2"
      },
      "execution_count": null,
      "outputs": [
        {
          "output_type": "stream",
          "name": "stdout",
          "text": [
            "\n",
            "Processing class: Parking\n",
            "Processed 800 images...\n",
            "\n",
            "Processing class: City\n",
            "Processed 1600 images...\n",
            "\n",
            "Processing class: Mountain\n",
            "Processed 2400 images...\n",
            "\n",
            "Processing class: Desert\n",
            "Processed 3200 images...\n",
            "\n",
            "Processing class: Agriculture\n",
            "Processed 4000 images...\n",
            "\n",
            "Processing class: Grassland\n",
            "Processed 4800 images...\n",
            "\n",
            "Processing class: River\n",
            "Processed 5600 images...\n",
            "\n",
            "Processing class: Highway\n",
            "Processed 6400 images...\n",
            "\n",
            "Processing class: Airport\n",
            "Processed 7200 images...\n",
            "\n",
            "Processing class: Port\n",
            "Processed 8000 images...\n",
            "\n",
            "Processing class: Residential\n",
            "Processed 8800 images...\n",
            "\n",
            "Processing class: Railway\n",
            "Processed 9600 images...\n",
            "\n",
            "Processing class: Forest\n",
            "Processed 10400 images...\n",
            "\n",
            "Processing class: Lake\n",
            "Processed 11200 images...\n",
            "\n",
            "Processing class: Beach\n",
            "Processed 12000 images...\n",
            "\n",
            "Dataset created with 12000 samples and 196608 features\n",
            "\n",
            "Saved as pkl file at ./aerial_landscapes.pkl\n"
          ]
        }
      ]
    },
    {
      "cell_type": "code",
      "source": [
        "!pip3 install scikit-learn"
      ],
      "metadata": {
        "colab": {
          "base_uri": "https://localhost:8080/"
        },
        "id": "KcPCOkW9jEoV",
        "outputId": "f0a9ce37-4245-48eb-d1ab-4f5e43c994cc"
      },
      "execution_count": null,
      "outputs": [
        {
          "output_type": "stream",
          "name": "stdout",
          "text": [
            "Requirement already satisfied: scikit-learn in /usr/local/lib/python3.11/dist-packages (1.6.1)\n",
            "Requirement already satisfied: numpy>=1.19.5 in /usr/local/lib/python3.11/dist-packages (from scikit-learn) (2.0.2)\n",
            "Requirement already satisfied: scipy>=1.6.0 in /usr/local/lib/python3.11/dist-packages (from scikit-learn) (1.14.1)\n",
            "Requirement already satisfied: joblib>=1.2.0 in /usr/local/lib/python3.11/dist-packages (from scikit-learn) (1.4.2)\n",
            "Requirement already satisfied: threadpoolctl>=3.1.0 in /usr/local/lib/python3.11/dist-packages (from scikit-learn) (3.6.0)\n"
          ]
        }
      ]
    },
    {
      "cell_type": "code",
      "source": [
        "from sklearn.model_selection import train_test_split\n",
        "from sklearn.preprocessing import LabelEncoder\n",
        "\n",
        "# Load the pickle file\n",
        "df = pd.read_pickle('aerial_landscapes.pkl')\n",
        "\n",
        "# Separate features (X) and labels (y)\n",
        "X = df.drop('label', axis=1).values\n",
        "y = df['label'].values\n",
        "\n",
        "# Encode labels (convert strings to numerical values)\n",
        "label_encoder = LabelEncoder()\n",
        "y_encoded = label_encoder.fit_transform(y)\n",
        "\n",
        "# Split into train (80%) and test (20%) sets\n",
        "X_train, X_test, y_train, y_test = train_test_split(\n",
        "    X, y_encoded,\n",
        "    test_size=0.2,\n",
        "    random_state=42,\n",
        "    stratify=y_encoded\n",
        ")\n",
        "\n",
        "# Convert back to DataFrames if needed\n",
        "train_df = pd.DataFrame(X_train)\n",
        "train_df['label'] = y_train\n",
        "\n",
        "test_df = pd.DataFrame(X_test)\n",
        "test_df['label'] = y_test\n",
        "\n",
        "# Print some information\n",
        "print(f\"Total samples: {len(df)}\")\n",
        "print(f\"Train samples: {len(train_df)} ({len(train_df)/len(df)*100:.1f}%)\")\n",
        "print(f\"Test samples: {len(test_df)} ({len(test_df)/len(df)*100:.1f}%)\")\n",
        "print(\"\\nClass distribution in train set:\")\n",
        "print(train_df['label'].value_counts(normalize=True))\n",
        "print(\"\\nClass distribution in test set:\")\n",
        "print(test_df['label'].value_counts(normalize=True))\n",
        "\n",
        "# Save the splits if needed\n",
        "train_df.to_pickle('aerial_landscapes_train.pkl')\n",
        "test_df.to_pickle('aerial_landscapes_test.pkl')"
      ],
      "metadata": {
        "colab": {
          "base_uri": "https://localhost:8080/"
        },
        "id": "sg40i3-IiwRM",
        "outputId": "6a704c2d-2e85-41c3-8f29-b329e76d41ef"
      },
      "execution_count": null,
      "outputs": [
        {
          "output_type": "stream",
          "name": "stdout",
          "text": [
            "Total samples: 12000\n",
            "Train samples: 9600 (80.0%)\n",
            "Test samples: 2400 (20.0%)\n",
            "\n",
            "Class distribution in train set:\n",
            "label\n",
            "1     0.066667\n",
            "13    0.066667\n",
            "9     0.066667\n",
            "6     0.066667\n",
            "11    0.066667\n",
            "7     0.066667\n",
            "14    0.066667\n",
            "2     0.066667\n",
            "5     0.066667\n",
            "3     0.066667\n",
            "8     0.066667\n",
            "0     0.066667\n",
            "10    0.066667\n",
            "4     0.066667\n",
            "12    0.066667\n",
            "Name: proportion, dtype: float64\n",
            "\n",
            "Class distribution in test set:\n",
            "label\n",
            "2     0.066667\n",
            "6     0.066667\n",
            "9     0.066667\n",
            "13    0.066667\n",
            "8     0.066667\n",
            "7     0.066667\n",
            "4     0.066667\n",
            "10    0.066667\n",
            "5     0.066667\n",
            "14    0.066667\n",
            "12    0.066667\n",
            "3     0.066667\n",
            "0     0.066667\n",
            "1     0.066667\n",
            "11    0.066667\n",
            "Name: proportion, dtype: float64\n"
          ]
        }
      ]
    }
  ]
}